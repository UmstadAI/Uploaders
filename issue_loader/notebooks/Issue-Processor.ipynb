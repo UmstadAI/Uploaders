{
 "cells": [
  {
   "cell_type": "code",
   "execution_count": 24,
   "id": "13dc7d35-4bb4-44b3-a07d-a0c6d12544e4",
   "metadata": {},
   "outputs": [
    {
     "name": "stdout",
     "output_type": "stream",
     "text": [
      "{\n",
      "    \"title\": \"Improve error message when using too many state fields. Example: `CircuitString`\",\n",
      "    \"author\": \"emlautarom1\",\n",
      "    \"is_open\": \"open\",\n",
      "    \"issue\": \"I'm trying to set up a smart contract that takes a proof and uses it's public output to update a value in the contract's state. This is a minimal reproducible example:\\r\\n\\r\\n```typescript\\r\\nimport { AccountUpdate, CircuitString, Experimental, Mina, PrivateKey, PublicKey, SmartContract, State, method, state } from \\\"o1js\\\";\\r\\n\\r\\nconst SomeProof = Experimental.ZkProgram({\\r\\n  publicOutput: CircuitString,\\r\\n\\r\\n  methods: {\\r\\n    make: {\\r\\n      privateInputs: [CircuitString],\\r\\n\\r\\n      method(value: CircuitString): CircuitString {\\r\\n        value.assertEquals(CircuitString.fromString('hello'));\\r\\n        return value;\\r\\n      },\\r\\n    },\\r\\n  },\\r\\n});\\r\\n\\r\\nclass SomeProofClass extends Experimental.ZkProgram.Proof(SomeProof) { }\\r\\n\\r\\nclass SomeProofContract extends SmartContract {\\r\\n  @state(CircuitString) value = State<CircuitString>();\\r\\n\\r\\n  init() {\\r\\n    super.init();\\r\\n    this.value.set(CircuitString.fromString(''));\\r\\n  }\\r\\n\\r\\n  @method setValueFromProof(proof: SomeProofClass) {\\r\\n    proof.verify();\\r\\n    this.value.set(proof.publicOutput);\\r\\n  }\\r\\n}\\r\\n\\r\\ndescribe('SomeProof', () => {\\r\\n  let deployerAccount: PublicKey;\\r\\n  let deployerKey: PrivateKey;\\r\\n  let senderAccount: PublicKey;\\r\\n  let senderKey: PrivateKey;\\r\\n  let zkAppAddress: PublicKey;\\r\\n  let zkAppPrivateKey: PrivateKey;\\r\\n  let zkApp: SomeProofContract;\\r\\n\\r\\n  beforeAll(async () => {\\r\\n    await SomeProof.compile();\\r\\n    await SomeProofContract.compile();\\r\\n  });\\r\\n\\r\\n  beforeEach(() => {\\r\\n    const Local = Mina.LocalBlockchain({ proofsEnabled: true });\\r\\n    Mina.setActiveInstance(Local);\\r\\n    ({ privateKey: deployerKey, publicKey: deployerAccount } = Local.testAccounts[0]);\\r\\n    ({ privateKey: senderKey, publicKey: senderAccount } = Local.testAccounts[1]);\\r\\n    zkAppPrivateKey = PrivateKey.random();\\r\\n    zkAppAddress = zkAppPrivateKey.toPublicKey();\\r\\n    zkApp = new SomeProofContract(zkAppAddress);\\r\\n  });\\r\\n\\r\\n  async function localDeploy() {\\r\\n    const txn = await Mina.transaction(deployerAccount, () => {\\r\\n      AccountUpdate.fundNewAccount(deployerAccount);\\r\\n      zkApp.deploy();\\r\\n    });\\r\\n    await txn.prove();\\r\\n    await txn.sign([deployerKey, zkAppPrivateKey]).send();\\r\\n  }\\r\\n\\r\\n  it('generates and deploys the smart contract', async () => {\\r\\n    await localDeploy();\\r\\n    const value = zkApp.value.get();\\r\\n    expect(value).toEqual(CircuitString.fromString(''));\\r\\n  });\\r\\n\\r\\n  it('correctly sets the value', async () => {\\r\\n    await localDeploy();\\r\\n\\r\\n    // Construct proof\\r\\n    const hello = CircuitString.fromString('hello');\\r\\n    const someProof = await SomeProof.make(hello);\\r\\n\\r\\n    // Set value from proof\\r\\n    const txn = await Mina.transaction(senderAccount, () => {\\r\\n      zkApp.setValueFromProof(someProof);\\r\\n    });\\r\\n    await txn.prove();\\r\\n    await txn.sign([senderKey]).send();\\r\\n\\r\\n    const value = zkApp.value.get();\\r\\n    expect(value).toEqual(hello);\\r\\n  });\\r\\n});\\r\\n```\\r\\n\\r\\nTrying to run this tests fails with the following exception:\\r\\n\\r\\n```\\r\\n  SomeProof\\r\\n    \\u2715 generates and deploys the smart contract\\r\\n    \\u2715 correctly sets the value\\r\\n\\r\\n  \\u25cf SomeProof \\u203a generates and deploys the smart contract\\r\\n\\r\\n    TypeError: Cannot set properties of undefined (setting 'isSome')\\r\\n\\r\\n      at Function.setValue (o1js/src/lib/account_update.ts:897:22)\\r\\n      at node_modules/o1js/src/lib/state.ts:199:23\\r\\n          at Array.forEach (<anonymous>)\\r\\n      at Object.set (o1js/src/lib/state.ts:198:21)\\r\\n      at SomeProofContract.setValueFromProof (src/MinimalRepro.test.ts:30:16)\\r\\n      at SomeProofContract.wrappedMethod (o1js/src/lib/zkapp.ts:199:31)\\r\\n      at node_modules/o1js/src/lib/zkapp.ts:1195:68\\r\\n      at node_modules/o1js/src/lib/proof_system.ts:583:12\\r\\n      at node_modules/o1js/src/lib/provable-context.ts:94:16\\r\\n      at mark_active (src/lib/snarky/src/base/snark0.ml:1167:19)\\r\\n      at _o8x_ (src/lib/snarky/src/base/snark0.ml:1287:52)\\r\\n      at as_stateful (src/lib/snarky/src/base/snark0.ml:755:15)\\r\\n      at constraint_system (src/lib/snarky/src/base/runners.ml:263:7)\\r\\n      at ../../../../../../workspace_root/src/lib/snarky/src/base/snark0.ml:1287:19\\r\\n      at finalize_is_running (src/lib/snarky/src/base/snark0.ml:1272:15)\\r\\n      at constraint_system (src/lib/snarky/src/base/snark0.ml:1286:7)\\r\\n      at Object.constraintSystem (o1js/src/lib/provable-context.ts:93:45)\\r\\n      at analyzeMethod (o1js/src/lib/proof_system.ts:578:19)\\r\\n      at Function.analyzeMethods (o1js/src/lib/zkapp.ts:1190:49)\\r\\n      at Function.compile (o1js/src/lib/zkapp.ts:678:10)\\r\\n      at src/MinimalRepro.test.ts:45:29\\r\\n\\r\\n  \\u25cf SomeProof \\u203a correctly sets the value\\r\\n\\r\\n    TypeError: Cannot set properties of undefined (setting 'isSome')\\r\\n\\r\\n      at Function.setValue (o1js/src/lib/account_update.ts:897:22)\\r\\n      at node_modules/o1js/src/lib/state.ts:199:23\\r\\n          at Array.forEach (<anonymous>)\\r\\n      at Object.set (o1js/src/lib/state.ts:198:21)\\r\\n      at SomeProofContract.setValueFromProof (src/MinimalRepro.test.ts:30:16)\\r\\n      at SomeProofContract.wrappedMethod (o1js/src/lib/zkapp.ts:199:31)\\r\\n      at node_modules/o1js/src/lib/zkapp.ts:1195:68\\r\\n      at node_modules/o1js/src/lib/proof_system.ts:583:12\\r\\n      at node_modules/o1js/src/lib/provable-context.ts:94:16\\r\\n      at mark_active (src/lib/snarky/src/base/snark0.ml:1167:19)\\r\\n      at _o8x_ (src/lib/snarky/src/base/snark0.ml:1287:52)\\r\\n      at as_stateful (src/lib/snarky/src/base/snark0.ml:755:15)\\r\\n      at constraint_system (src/lib/snarky/src/base/runners.ml:263:7)\\r\\n      at ../../../../../../workspace_root/src/lib/snarky/src/base/snark0.ml:1287:19\\r\\n      at finalize_is_running (src/lib/snarky/src/base/snark0.ml:1272:15)\\r\\n      at constraint_system (src/lib/snarky/src/base/snark0.ml:1286:7)\\r\\n      at Object.constraintSystem (o1js/src/lib/provable-context.ts:93:45)\\r\\n      at analyzeMethod (o1js/src/lib/proof_system.ts:578:19)\\r\\n      at Function.analyzeMethods (o1js/src/lib/zkapp.ts:1190:49)\\r\\n      at Function.compile (o1js/src/lib/zkapp.ts:678:10)\\r\\n      at src/MinimalRepro.test.ts:45:29\\r\\n```\\r\\n\\r\\nWhat I find curious is that if I replace all instances of `CircuitString` with `Bool`, `CircuitString.fromString('hello')` to `Bool(true)` and `CircuitString.fromString('')` to `Bool(false)`, then the contract works correctly. That is, the problem arises when I'm using `CircuitString` in the contract state.\\r\\n\\r\\nAccording to the official docs, a `CircuitString` has a max length of 128 bytes and a `SmartContract` can store up to 256 bytes, so it's not a space issue.\\r\\n\",\n",
      "    \"comments\": [\n",
      "        [\n",
      "            \"45930\",\n",
      "            \"@emlautarom1 sorry no one has responded to you, but a CircuitString is too long to fit in a smart contract.  It is 128 `Field`s and a contract can only hold 8 `Field`s.\"\n",
      "        ],\n",
      "        [\n",
      "            \"mitschabaude\",\n",
      "            \"Urgh, the error message is awfully unhelpful. I'm changing the issue title to be about improving the error\"\n",
      "        ]\n",
      "    ]\n",
      "}\n"
     ]
    }
   ],
   "source": [
    "import os\n",
    "import ast\n",
    "import json\n",
    "\n",
    "import pandas as pd\n",
    "import numpy as np\n",
    "\n",
    "df = pd.read_csv('output.csv')\n",
    "df = df[df['comments'].apply(lambda x: len(x) > 3)]\n",
    "\n",
    "for index, row in df.iterrows():\n",
    "    writer = row['writer']\n",
    "    title = row['title']\n",
    "    is_open = row['is_open']\n",
    "    issue_body = row['body']\n",
    "    comments = row['comments']\n",
    "    comments = ast.literal_eval(comments)\n",
    "    \n",
    "\n",
    "row = df.iloc[17]\n",
    "writer = row['writer']\n",
    "title = row['title']\n",
    "is_open = row['is_open']\n",
    "issue_body = row['body']\n",
    "comments = row['comments']\n",
    "\n",
    "comments = ast.literal_eval(comments)\n",
    "comments\n",
    "\n",
    "issue = {\n",
    "    \"title\": title,\n",
    "    \"author\": writer,\n",
    "    \"is_open\": is_open,\n",
    "    \"issue\": issue_body,\n",
    "    \"comments\": comments\n",
    "}\n",
    "\n",
    "json_string = json.dumps(issue, indent=4)\n",
    "print(json_string)"
   ]
  }
 ],
 "metadata": {
  "kernelspec": {
   "display_name": "Python 3 (ipykernel)",
   "language": "python",
   "name": "python3"
  },
  "language_info": {
   "codemirror_mode": {
    "name": "ipython",
    "version": 3
   },
   "file_extension": ".py",
   "mimetype": "text/x-python",
   "name": "python",
   "nbconvert_exporter": "python",
   "pygments_lexer": "ipython3",
   "version": "3.9.18"
  }
 },
 "nbformat": 4,
 "nbformat_minor": 5
}
